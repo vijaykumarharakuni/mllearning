{
  "nbformat": 4,
  "nbformat_minor": 0,
  "metadata": {
    "colab": {
      "provenance": [],
      "authorship_tag": "ABX9TyPOTWCDoKeBM2+8io+zZY3W",
      "include_colab_link": true
    },
    "kernelspec": {
      "name": "python3",
      "display_name": "Python 3"
    },
    "language_info": {
      "name": "python"
    }
  },
  "cells": [
    {
      "cell_type": "markdown",
      "metadata": {
        "id": "view-in-github",
        "colab_type": "text"
      },
      "source": [
        "<a href=\"https://colab.research.google.com/github/vijaykumarharakuni/mllearning/blob/main/Recommoder_Suprise_package.ipynb\" target=\"_parent\"><img src=\"https://colab.research.google.com/assets/colab-badge.svg\" alt=\"Open In Colab\"/></a>"
      ]
    },
    {
      "cell_type": "code",
      "execution_count": 1,
      "metadata": {
        "colab": {
          "base_uri": "https://localhost:8080/"
        },
        "id": "8lsa4aNyLfJB",
        "outputId": "865d8ed7-fd2b-4494-e4e5-4e3aa89f03bd"
      },
      "outputs": [
        {
          "output_type": "stream",
          "name": "stdout",
          "text": [
            "Collecting scikit-surprise\n",
            "  Downloading scikit_surprise-1.1.4.tar.gz (154 kB)\n",
            "\u001b[?25l     \u001b[90m━━━━━━━━━━━━━━━━━━━━━━━━━━━━━━━━━━━━━━━━\u001b[0m \u001b[32m0.0/154.4 kB\u001b[0m \u001b[31m?\u001b[0m eta \u001b[36m-:--:--\u001b[0m\r\u001b[2K     \u001b[91m━━━━━━━━━━━━━━━━━━━━━━━━━━━━━━━━━━━━━━━\u001b[0m\u001b[91m╸\u001b[0m \u001b[32m153.6/154.4 kB\u001b[0m \u001b[31m8.2 MB/s\u001b[0m eta \u001b[36m0:00:01\u001b[0m\r\u001b[2K     \u001b[90m━━━━━━━━━━━━━━━━━━━━━━━━━━━━━━━━━━━━━━━━\u001b[0m \u001b[32m154.4/154.4 kB\u001b[0m \u001b[31m4.1 MB/s\u001b[0m eta \u001b[36m0:00:00\u001b[0m\n",
            "\u001b[?25h  Installing build dependencies ... \u001b[?25l\u001b[?25hdone\n",
            "  Getting requirements to build wheel ... \u001b[?25l\u001b[?25hdone\n",
            "  Preparing metadata (pyproject.toml) ... \u001b[?25l\u001b[?25hdone\n",
            "Requirement already satisfied: joblib>=1.2.0 in /usr/local/lib/python3.11/dist-packages (from scikit-surprise) (1.4.2)\n",
            "Requirement already satisfied: numpy>=1.19.5 in /usr/local/lib/python3.11/dist-packages (from scikit-surprise) (1.26.4)\n",
            "Requirement already satisfied: scipy>=1.6.0 in /usr/local/lib/python3.11/dist-packages (from scikit-surprise) (1.13.1)\n",
            "Building wheels for collected packages: scikit-surprise\n",
            "  Building wheel for scikit-surprise (pyproject.toml) ... \u001b[?25l\u001b[?25hdone\n",
            "  Created wheel for scikit-surprise: filename=scikit_surprise-1.1.4-cp311-cp311-linux_x86_64.whl size=2505185 sha256=fe8b01058f2cc5b82af125b75ab6df862a06af1382dcc90814f590f28fc029c1\n",
            "  Stored in directory: /root/.cache/pip/wheels/2a/8f/6e/7e2899163e2d85d8266daab4aa1cdabec7a6c56f83c015b5af\n",
            "Successfully built scikit-surprise\n",
            "Installing collected packages: scikit-surprise\n",
            "Successfully installed scikit-surprise-1.1.4\n"
          ]
        }
      ],
      "source": [
        "!pip install scikit-surprise"
      ]
    },
    {
      "cell_type": "code",
      "source": [],
      "metadata": {
        "id": "GgxOVQC5Lmyi"
      },
      "execution_count": null,
      "outputs": []
    },
    {
      "cell_type": "code",
      "source": [
        "import pandas as pd\n",
        "from surprise import Dataset, Reader, KNNBasic\n",
        "from surprise.model_selection import train_test_split\n",
        "from surprise import accuracy"
      ],
      "metadata": {
        "id": "rCPAftMcL47r"
      },
      "execution_count": 2,
      "outputs": []
    },
    {
      "cell_type": "code",
      "source": [
        "# Step 1: Define the dataset\n",
        "# Example: user_id, item_id, rating\n",
        "data_dict = {\n",
        "    \"user_id\": [\"U1\", \"U1\", \"U1\", \"U2\", \"U2\", \"U3\", \"U3\"],\n",
        "    \"item_id\": [\"I1\", \"I2\", \"I3\", \"I1\", \"I4\", \"I3\", \"I4\"],\n",
        "    \"rating\": [4, 5, 3, 5, 2, 5, 4],\n",
        "}"
      ],
      "metadata": {
        "id": "GWUMX5FBL510"
      },
      "execution_count": 14,
      "outputs": []
    },
    {
      "cell_type": "code",
      "source": [
        "# Step 2: Load data into Surprise format\n",
        "reader = Reader(rating_scale=(1, 5))  # Ratings range between 1 and 5\n",
        "data = Dataset.load_from_df(\n",
        "    pd.DataFrame(data_dict), reader\n",
        ")"
      ],
      "metadata": {
        "id": "82Dz-9SgMBdh"
      },
      "execution_count": 15,
      "outputs": []
    },
    {
      "cell_type": "code",
      "source": [
        "# Step 3: Train-Test Split\n",
        "trainset, testset = train_test_split(data, test_size=0.2)"
      ],
      "metadata": {
        "id": "6vFscvsNMNEE"
      },
      "execution_count": 5,
      "outputs": []
    },
    {
      "cell_type": "code",
      "source": [
        "# Step 4: Define the KNNBasic algorithm (user-based filtering)\n",
        "sim_options = {\n",
        "    \"name\": \"msd\",  # Use cosine similarity , cosine, pearson,pearson_baseline\n",
        "    \"user_based\": True,  # User-based filtering\n",
        "}\n",
        "algo = KNNBasic(sim_options=sim_options)\n",
        "\n",
        "# Step 5: Train the model\n",
        "algo.fit(trainset)\n",
        "\n",
        "# Step 6: Test the model and predict\n",
        "predictions = algo.test(testset)\n",
        "accuracy.rmse(predictions)"
      ],
      "metadata": {
        "colab": {
          "base_uri": "https://localhost:8080/"
        },
        "id": "7gaHTJJYMbCf",
        "outputId": "d9e133db-6ea9-43a8-da4f-e4a51ff4ed3f"
      },
      "execution_count": 16,
      "outputs": [
        {
          "output_type": "stream",
          "name": "stdout",
          "text": [
            "Computing the msd similarity matrix...\n",
            "Done computing similarity matrix.\n",
            "RMSE: 0.8602\n"
          ]
        },
        {
          "output_type": "execute_result",
          "data": {
            "text/plain": [
              "0.8602325267042628"
            ]
          },
          "metadata": {},
          "execution_count": 16
        }
      ]
    },
    {
      "cell_type": "code",
      "source": [
        "# Step 7: Predict a specific rating\n",
        "uid, iid = \"U1\", \"I4\"  # User 1, Item 4\n",
        "pred = algo.predict(uid, iid)\n",
        "print(f\"Predicted rating for {uid} on {iid}: {pred.est:.2f}\")"
      ],
      "metadata": {
        "colab": {
          "base_uri": "https://localhost:8080/"
        },
        "id": "V4xcnxE2M-d7",
        "outputId": "e42e07de-54c0-4c2a-d767-b271ee84d76f"
      },
      "execution_count": 17,
      "outputs": [
        {
          "output_type": "stream",
          "name": "stdout",
          "text": [
            "Predicted rating for U1 on I4: 4.00\n"
          ]
        }
      ]
    },
    {
      "cell_type": "code",
      "source": [
        "# content based similarity\n",
        "import numpy as np\n",
        "from sklearn.metrics.pairwise import cosine_similarity\n",
        "\n",
        "# Item features matrix (items x features)\n",
        "# Features could be, for example: [Action, Comedy, Drama, Sci-Fi]\n",
        "\n",
        "item_features = np.array([\n",
        "    [1, 0, 0, 1],  # Item 1 (Action, Sci-Fi)\n",
        "    [0, 1, 0, 1],  # Item 2 (Comedy, Sci-Fi)\n",
        "    [1, 0, 1, 0],  # Item 3 (Action, Drama)\n",
        "    [0, 1, 1, 0],  # Item 4 (Comedy, Drama)\n",
        "])"
      ],
      "metadata": {
        "id": "44rCv_RYNCty"
      },
      "execution_count": 18,
      "outputs": []
    },
    {
      "cell_type": "code",
      "source": [
        "item_features"
      ],
      "metadata": {
        "colab": {
          "base_uri": "https://localhost:8080/"
        },
        "id": "5bcL0QAGX8cZ",
        "outputId": "b29b8f42-53f9-4387-aafc-3efa53c278b4"
      },
      "execution_count": 19,
      "outputs": [
        {
          "output_type": "execute_result",
          "data": {
            "text/plain": [
              "array([[1, 0, 0, 1],\n",
              "       [0, 1, 0, 1],\n",
              "       [1, 0, 1, 0],\n",
              "       [0, 1, 1, 0]])"
            ]
          },
          "metadata": {},
          "execution_count": 19
        }
      ]
    },
    {
      "cell_type": "code",
      "source": [
        "# User's preferences (based on past ratings or likes)\n",
        "# For example, the user likes Item 1 and Item 3 (indicating that they prefer Action movies)\n",
        "user_profile = np.array([1, 0, 1, 0])  # User likes Action and Drama genres\n",
        "\n",
        "# Calculate the cosine similarity between items\n",
        "item_similarity = cosine_similarity(item_features)\n",
        "\n",
        "# Recommend items for the user based on the highest similarity to their profile\n",
        "# Calculate similarity between user profile and each item\n",
        "user_item_similarity = cosine_similarity(user_profile.reshape(1, -1), item_features).flatten()\n",
        "\n",
        "# Get the index of items sorted by similarity to user profile (in descending order)\n",
        "recommended_items = np.argsort(user_item_similarity)[::-1]\n",
        "\n",
        "# Print the recommended items\n",
        "print(\"Recommended Items for the User:\")\n",
        "for item_idx in recommended_items:\n",
        "    print(f\"Item {item_idx + 1} (Similarity Score: {user_item_similarity[item_idx]:.2f})\")"
      ],
      "metadata": {
        "colab": {
          "base_uri": "https://localhost:8080/"
        },
        "id": "9pgjyzKvYAGX",
        "outputId": "9361f02e-12d5-4410-a622-f0c208b39db3"
      },
      "execution_count": 20,
      "outputs": [
        {
          "output_type": "stream",
          "name": "stdout",
          "text": [
            "Recommended Items for the User:\n",
            "Item 3 (Similarity Score: 1.00)\n",
            "Item 4 (Similarity Score: 0.50)\n",
            "Item 1 (Similarity Score: 0.50)\n",
            "Item 2 (Similarity Score: 0.00)\n"
          ]
        }
      ]
    },
    {
      "cell_type": "code",
      "source": [],
      "metadata": {
        "id": "lyT80w40YJ1w"
      },
      "execution_count": null,
      "outputs": []
    }
  ]
}