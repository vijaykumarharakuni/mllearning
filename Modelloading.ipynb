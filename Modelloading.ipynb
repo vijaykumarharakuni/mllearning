{
  "nbformat": 4,
  "nbformat_minor": 0,
  "metadata": {
    "colab": {
      "provenance": [],
      "authorship_tag": "ABX9TyO+o7DfJsSrvGTsR9SaF/pw",
      "include_colab_link": true
    },
    "kernelspec": {
      "name": "python3",
      "display_name": "Python 3"
    },
    "language_info": {
      "name": "python"
    }
  },
  "cells": [
    {
      "cell_type": "markdown",
      "metadata": {
        "id": "view-in-github",
        "colab_type": "text"
      },
      "source": [
        "<a href=\"https://colab.research.google.com/github/vijaykumarharakuni/mllearning/blob/main/Modelloading.ipynb\" target=\"_parent\"><img src=\"https://colab.research.google.com/assets/colab-badge.svg\" alt=\"Open In Colab\"/></a>"
      ]
    },
    {
      "cell_type": "code",
      "execution_count": 4,
      "metadata": {
        "colab": {
          "base_uri": "https://localhost:8080/"
        },
        "id": "yos9o_eT89Kx",
        "outputId": "186eccfb-e9c5-4c6f-8d31-cc5c809c36b6"
      },
      "outputs": [
        {
          "output_type": "stream",
          "name": "stdout",
          "text": [
            "model loaded succesffully\n"
          ]
        }
      ],
      "source": [
        "#Load the model\n",
        "\n",
        "import joblib\n",
        "model=joblib.load('/salary_pred_model.pkl')\n",
        "print('model loaded succesffully')"
      ]
    },
    {
      "cell_type": "code",
      "source": [
        "x=10\n",
        "salary=model.predict([[x]])\n",
        "print('salary for {} years of experience is {}'.format(x,salary))"
      ],
      "metadata": {
        "colab": {
          "base_uri": "https://localhost:8080/"
        },
        "id": "gtbYL__69YLu",
        "outputId": "f7810b43-f1f5-4e56-c99c-2911d3964ee5"
      },
      "execution_count": 9,
      "outputs": [
        {
          "output_type": "stream",
          "name": "stdout",
          "text": [
            "salary for 10 years of experience is [119309.25557305]\n"
          ]
        },
        {
          "output_type": "stream",
          "name": "stderr",
          "text": [
            "/usr/local/lib/python3.10/dist-packages/sklearn/utils/validation.py:2739: UserWarning: X does not have valid feature names, but LinearRegression was fitted with feature names\n",
            "  warnings.warn(\n"
          ]
        }
      ]
    },
    {
      "cell_type": "code",
      "source": [],
      "metadata": {
        "id": "hs7O7B0F_ues"
      },
      "execution_count": null,
      "outputs": []
    }
  ]
}