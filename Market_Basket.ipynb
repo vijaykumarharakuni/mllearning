{
  "cells": [
    {
      "cell_type": "markdown",
      "metadata": {
        "id": "view-in-github",
        "colab_type": "text"
      },
      "source": [
        "<a href=\"https://colab.research.google.com/github/vijaykumarharakuni/mllearning/blob/main/Market_Basket.ipynb\" target=\"_parent\"><img src=\"https://colab.research.google.com/assets/colab-badge.svg\" alt=\"Open In Colab\"/></a>"
      ]
    },
    {
      "cell_type": "code",
      "execution_count": 3,
      "id": "df374087-908b-42e4-89dd-e7babbffa3aa",
      "metadata": {
        "id": "df374087-908b-42e4-89dd-e7babbffa3aa"
      },
      "outputs": [],
      "source": [
        "import pandas as pd\n",
        "import numpy as np\n",
        "import matplotlib.pyplot as plt"
      ]
    },
    {
      "cell_type": "code",
      "execution_count": 5,
      "id": "327ac0d0-d673-46f2-a52a-0895b9988bdf",
      "metadata": {
        "id": "327ac0d0-d673-46f2-a52a-0895b9988bdf"
      },
      "outputs": [],
      "source": [
        "data=pd.read_csv('/content/Market_Basket_Optimisation.csv')"
      ]
    },
    {
      "cell_type": "code",
      "execution_count": null,
      "id": "7fcdcb65-c90e-4bc6-9e23-0c9788c00434",
      "metadata": {
        "id": "7fcdcb65-c90e-4bc6-9e23-0c9788c00434",
        "outputId": "b7ad6250-2183-4232-f424-34ff2774fe72"
      },
      "outputs": [
        {
          "data": {
            "text/html": [
              "<div>\n",
              "<style scoped>\n",
              "    .dataframe tbody tr th:only-of-type {\n",
              "        vertical-align: middle;\n",
              "    }\n",
              "\n",
              "    .dataframe tbody tr th {\n",
              "        vertical-align: top;\n",
              "    }\n",
              "\n",
              "    .dataframe thead th {\n",
              "        text-align: right;\n",
              "    }\n",
              "</style>\n",
              "<table border=\"1\" class=\"dataframe\">\n",
              "  <thead>\n",
              "    <tr style=\"text-align: right;\">\n",
              "      <th></th>\n",
              "      <th>shrimp</th>\n",
              "      <th>almonds</th>\n",
              "      <th>avocado</th>\n",
              "      <th>vegetables mix</th>\n",
              "      <th>green grapes</th>\n",
              "      <th>whole weat flour</th>\n",
              "      <th>yams</th>\n",
              "      <th>cottage cheese</th>\n",
              "      <th>energy drink</th>\n",
              "      <th>tomato juice</th>\n",
              "      <th>low fat yogurt</th>\n",
              "      <th>green tea</th>\n",
              "      <th>honey</th>\n",
              "      <th>salad</th>\n",
              "      <th>mineral water</th>\n",
              "      <th>salmon</th>\n",
              "      <th>antioxydant juice</th>\n",
              "      <th>frozen smoothie</th>\n",
              "      <th>spinach</th>\n",
              "      <th>olive oil</th>\n",
              "    </tr>\n",
              "  </thead>\n",
              "  <tbody>\n",
              "    <tr>\n",
              "      <th>0</th>\n",
              "      <td>burgers</td>\n",
              "      <td>meatballs</td>\n",
              "      <td>eggs</td>\n",
              "      <td>NaN</td>\n",
              "      <td>NaN</td>\n",
              "      <td>NaN</td>\n",
              "      <td>NaN</td>\n",
              "      <td>NaN</td>\n",
              "      <td>NaN</td>\n",
              "      <td>NaN</td>\n",
              "      <td>NaN</td>\n",
              "      <td>NaN</td>\n",
              "      <td>NaN</td>\n",
              "      <td>NaN</td>\n",
              "      <td>NaN</td>\n",
              "      <td>NaN</td>\n",
              "      <td>NaN</td>\n",
              "      <td>NaN</td>\n",
              "      <td>NaN</td>\n",
              "      <td>NaN</td>\n",
              "    </tr>\n",
              "  </tbody>\n",
              "</table>\n",
              "</div>"
            ],
            "text/plain": [
              "    shrimp    almonds avocado vegetables mix green grapes whole weat flour  \\\n",
              "0  burgers  meatballs    eggs            NaN          NaN              NaN   \n",
              "\n",
              "  yams cottage cheese energy drink tomato juice low fat yogurt green tea  \\\n",
              "0  NaN            NaN          NaN          NaN            NaN       NaN   \n",
              "\n",
              "  honey salad mineral water salmon antioxydant juice frozen smoothie spinach  \\\n",
              "0   NaN   NaN           NaN    NaN               NaN             NaN     NaN   \n",
              "\n",
              "   olive oil  \n",
              "0        NaN  "
            ]
          },
          "execution_count": 3,
          "metadata": {},
          "output_type": "execute_result"
        }
      ],
      "source": [
        "data.head(1)"
      ]
    },
    {
      "cell_type": "code",
      "execution_count": null,
      "id": "303a597f-340b-455d-a27d-3cb9a95d3e38",
      "metadata": {
        "id": "303a597f-340b-455d-a27d-3cb9a95d3e38",
        "outputId": "fc13d29b-ee56-48d3-da37-a00ffe5f2e6e"
      },
      "outputs": [
        {
          "data": {
            "text/plain": [
              "[9, 16, 25, 36, 49, 1, 64]"
            ]
          },
          "execution_count": 4,
          "metadata": {},
          "output_type": "execute_result"
        }
      ],
      "source": [
        "#Create  alist of squares\n",
        "# [Expression for i in iterable if condition]\n",
        "l1=[3,4,5,6,7,1,8]\n",
        "sq=[x**2 for x in l1]\n",
        "sq"
      ]
    },
    {
      "cell_type": "code",
      "execution_count": 6,
      "id": "c5c0d86c-3fd2-4565-91a5-8c4f36da0eef",
      "metadata": {
        "colab": {
          "base_uri": "https://localhost:8080/",
          "height": 339
        },
        "id": "c5c0d86c-3fd2-4565-91a5-8c4f36da0eef",
        "outputId": "bd2fa4ff-a169-4f29-a3c2-1093a31b2026"
      },
      "outputs": [
        {
          "output_type": "error",
          "ename": "KeyboardInterrupt",
          "evalue": "",
          "traceback": [
            "\u001b[0;31m---------------------------------------------------------------------------\u001b[0m",
            "\u001b[0;31mKeyboardInterrupt\u001b[0m                         Traceback (most recent call last)",
            "\u001b[0;32m<ipython-input-6-dc982aff53d4>\u001b[0m in \u001b[0;36m<cell line: 0>\u001b[0;34m()\u001b[0m\n\u001b[1;32m      2\u001b[0m \u001b[0mtransactions\u001b[0m\u001b[0;34m=\u001b[0m\u001b[0;34m[\u001b[0m\u001b[0;34m]\u001b[0m\u001b[0;34m\u001b[0m\u001b[0;34m\u001b[0m\u001b[0m\n\u001b[1;32m      3\u001b[0m \u001b[0;32mfor\u001b[0m \u001b[0mi\u001b[0m \u001b[0;32min\u001b[0m \u001b[0mrange\u001b[0m\u001b[0;34m(\u001b[0m\u001b[0mdata\u001b[0m\u001b[0;34m.\u001b[0m\u001b[0mshape\u001b[0m\u001b[0;34m[\u001b[0m\u001b[0;36m0\u001b[0m\u001b[0;34m]\u001b[0m\u001b[0;34m)\u001b[0m\u001b[0;34m:\u001b[0m\u001b[0;34m\u001b[0m\u001b[0;34m\u001b[0m\u001b[0m\n\u001b[0;32m----> 4\u001b[0;31m     transactions.append([str(data.values[i,j]) for j in range(data.shape[1]) \n\u001b[0m\u001b[1;32m      5\u001b[0m                          if str(data.values[i,j])!='nan'])\n",
            "\u001b[0;32m<ipython-input-6-dc982aff53d4>\u001b[0m in \u001b[0;36m<listcomp>\u001b[0;34m(.0)\u001b[0m\n\u001b[1;32m      3\u001b[0m \u001b[0;32mfor\u001b[0m \u001b[0mi\u001b[0m \u001b[0;32min\u001b[0m \u001b[0mrange\u001b[0m\u001b[0;34m(\u001b[0m\u001b[0mdata\u001b[0m\u001b[0;34m.\u001b[0m\u001b[0mshape\u001b[0m\u001b[0;34m[\u001b[0m\u001b[0;36m0\u001b[0m\u001b[0;34m]\u001b[0m\u001b[0;34m)\u001b[0m\u001b[0;34m:\u001b[0m\u001b[0;34m\u001b[0m\u001b[0;34m\u001b[0m\u001b[0m\n\u001b[1;32m      4\u001b[0m     transactions.append([str(data.values[i,j]) for j in range(data.shape[1]) \n\u001b[0;32m----> 5\u001b[0;31m                          if str(data.values[i,j])!='nan'])\n\u001b[0m",
            "\u001b[0;32m/usr/local/lib/python3.11/dist-packages/pandas/core/frame.py\u001b[0m in \u001b[0;36mvalues\u001b[0;34m(self)\u001b[0m\n\u001b[1;32m  12662\u001b[0m                ['monkey', nan, None]], dtype=object)\n\u001b[1;32m  12663\u001b[0m         \"\"\"\n\u001b[0;32m> 12664\u001b[0;31m         \u001b[0;32mreturn\u001b[0m \u001b[0mself\u001b[0m\u001b[0;34m.\u001b[0m\u001b[0m_mgr\u001b[0m\u001b[0;34m.\u001b[0m\u001b[0mas_array\u001b[0m\u001b[0;34m(\u001b[0m\u001b[0;34m)\u001b[0m\u001b[0;34m\u001b[0m\u001b[0;34m\u001b[0m\u001b[0m\n\u001b[0m\u001b[1;32m  12665\u001b[0m \u001b[0;34m\u001b[0m\u001b[0m\n\u001b[1;32m  12666\u001b[0m \u001b[0;34m\u001b[0m\u001b[0m\n",
            "\u001b[0;32m/usr/local/lib/python3.11/dist-packages/pandas/core/internals/managers.py\u001b[0m in \u001b[0;36mas_array\u001b[0;34m(self, dtype, copy, na_value)\u001b[0m\n\u001b[1;32m   1692\u001b[0m                 \u001b[0marr\u001b[0m\u001b[0;34m.\u001b[0m\u001b[0mflags\u001b[0m\u001b[0;34m.\u001b[0m\u001b[0mwriteable\u001b[0m \u001b[0;34m=\u001b[0m \u001b[0;32mFalse\u001b[0m\u001b[0;34m\u001b[0m\u001b[0;34m\u001b[0m\u001b[0m\n\u001b[1;32m   1693\u001b[0m         \u001b[0;32melse\u001b[0m\u001b[0;34m:\u001b[0m\u001b[0;34m\u001b[0m\u001b[0;34m\u001b[0m\u001b[0m\n\u001b[0;32m-> 1694\u001b[0;31m             \u001b[0marr\u001b[0m \u001b[0;34m=\u001b[0m \u001b[0mself\u001b[0m\u001b[0;34m.\u001b[0m\u001b[0m_interleave\u001b[0m\u001b[0;34m(\u001b[0m\u001b[0mdtype\u001b[0m\u001b[0;34m=\u001b[0m\u001b[0mdtype\u001b[0m\u001b[0;34m,\u001b[0m \u001b[0mna_value\u001b[0m\u001b[0;34m=\u001b[0m\u001b[0mna_value\u001b[0m\u001b[0;34m)\u001b[0m\u001b[0;34m\u001b[0m\u001b[0;34m\u001b[0m\u001b[0m\n\u001b[0m\u001b[1;32m   1695\u001b[0m             \u001b[0;31m# The underlying data was copied within _interleave, so no need\u001b[0m\u001b[0;34m\u001b[0m\u001b[0;34m\u001b[0m\u001b[0m\n\u001b[1;32m   1696\u001b[0m             \u001b[0;31m# to further copy if copy=True or setting na_value\u001b[0m\u001b[0;34m\u001b[0m\u001b[0;34m\u001b[0m\u001b[0m\n",
            "\u001b[0;32m/usr/local/lib/python3.11/dist-packages/pandas/core/internals/managers.py\u001b[0m in \u001b[0;36m_interleave\u001b[0;34m(self, dtype, na_value)\u001b[0m\n\u001b[1;32m   1733\u001b[0m             \u001b[0;32mfor\u001b[0m \u001b[0mblk\u001b[0m \u001b[0;32min\u001b[0m \u001b[0mself\u001b[0m\u001b[0;34m.\u001b[0m\u001b[0mblocks\u001b[0m\u001b[0;34m:\u001b[0m\u001b[0;34m\u001b[0m\u001b[0;34m\u001b[0m\u001b[0m\n\u001b[1;32m   1734\u001b[0m                 \u001b[0mrl\u001b[0m \u001b[0;34m=\u001b[0m \u001b[0mblk\u001b[0m\u001b[0;34m.\u001b[0m\u001b[0mmgr_locs\u001b[0m\u001b[0;34m\u001b[0m\u001b[0;34m\u001b[0m\u001b[0m\n\u001b[0;32m-> 1735\u001b[0;31m                 \u001b[0marr\u001b[0m \u001b[0;34m=\u001b[0m \u001b[0mblk\u001b[0m\u001b[0;34m.\u001b[0m\u001b[0mget_values\u001b[0m\u001b[0;34m(\u001b[0m\u001b[0mdtype\u001b[0m\u001b[0;34m)\u001b[0m\u001b[0;34m\u001b[0m\u001b[0;34m\u001b[0m\u001b[0m\n\u001b[0m\u001b[1;32m   1736\u001b[0m                 \u001b[0mresult\u001b[0m\u001b[0;34m[\u001b[0m\u001b[0mrl\u001b[0m\u001b[0;34m.\u001b[0m\u001b[0mindexer\u001b[0m\u001b[0;34m]\u001b[0m \u001b[0;34m=\u001b[0m \u001b[0marr\u001b[0m\u001b[0;34m\u001b[0m\u001b[0;34m\u001b[0m\u001b[0m\n\u001b[1;32m   1737\u001b[0m                 \u001b[0mitemmask\u001b[0m\u001b[0;34m[\u001b[0m\u001b[0mrl\u001b[0m\u001b[0;34m.\u001b[0m\u001b[0mindexer\u001b[0m\u001b[0;34m]\u001b[0m \u001b[0;34m=\u001b[0m \u001b[0;36m1\u001b[0m\u001b[0;34m\u001b[0m\u001b[0;34m\u001b[0m\u001b[0m\n",
            "\u001b[0;32m/usr/local/lib/python3.11/dist-packages/pandas/core/internals/blocks.py\u001b[0m in \u001b[0;36mget_values\u001b[0;34m(self, dtype)\u001b[0m\n\u001b[1;32m   2586\u001b[0m     \u001b[0;32mdef\u001b[0m \u001b[0mget_values\u001b[0m\u001b[0;34m(\u001b[0m\u001b[0mself\u001b[0m\u001b[0;34m,\u001b[0m \u001b[0mdtype\u001b[0m\u001b[0;34m:\u001b[0m \u001b[0mDtypeObj\u001b[0m \u001b[0;34m|\u001b[0m \u001b[0;32mNone\u001b[0m \u001b[0;34m=\u001b[0m \u001b[0;32mNone\u001b[0m\u001b[0;34m)\u001b[0m \u001b[0;34m->\u001b[0m \u001b[0mnp\u001b[0m\u001b[0;34m.\u001b[0m\u001b[0mndarray\u001b[0m\u001b[0;34m:\u001b[0m\u001b[0;34m\u001b[0m\u001b[0;34m\u001b[0m\u001b[0m\n\u001b[1;32m   2587\u001b[0m         \u001b[0;32mif\u001b[0m \u001b[0mdtype\u001b[0m \u001b[0;34m==\u001b[0m \u001b[0m_dtype_obj\u001b[0m\u001b[0;34m:\u001b[0m\u001b[0;34m\u001b[0m\u001b[0;34m\u001b[0m\u001b[0m\n\u001b[0;32m-> 2588\u001b[0;31m             \u001b[0;32mreturn\u001b[0m \u001b[0mself\u001b[0m\u001b[0;34m.\u001b[0m\u001b[0mvalues\u001b[0m\u001b[0;34m.\u001b[0m\u001b[0mastype\u001b[0m\u001b[0;34m(\u001b[0m\u001b[0m_dtype_obj\u001b[0m\u001b[0;34m)\u001b[0m\u001b[0;34m\u001b[0m\u001b[0;34m\u001b[0m\u001b[0m\n\u001b[0m\u001b[1;32m   2589\u001b[0m         \u001b[0;32mreturn\u001b[0m \u001b[0mself\u001b[0m\u001b[0;34m.\u001b[0m\u001b[0mvalues\u001b[0m\u001b[0;34m\u001b[0m\u001b[0;34m\u001b[0m\u001b[0m\n\u001b[1;32m   2590\u001b[0m \u001b[0;34m\u001b[0m\u001b[0m\n",
            "\u001b[0;31mKeyboardInterrupt\u001b[0m: "
          ]
        }
      ],
      "source": [
        "# convert this df into list of list\n",
        "transactions=[]\n",
        "for i in range(data.shape[0]):\n",
        "    transactions.append([str(data.values[i,j]) for j in range(data.shape[1])\n",
        "                         if str(data.values[i,j])!='nan'])"
      ]
    },
    {
      "cell_type": "code",
      "execution_count": null,
      "id": "06949d3f-f0cf-4eec-9954-5bc87b8991e0",
      "metadata": {
        "id": "06949d3f-f0cf-4eec-9954-5bc87b8991e0"
      },
      "outputs": [],
      "source": [
        "!pip install mlxtend"
      ]
    },
    {
      "cell_type": "code",
      "execution_count": null,
      "id": "26512eb2-5ec7-4417-9d67-82a4f873b87d",
      "metadata": {
        "id": "26512eb2-5ec7-4417-9d67-82a4f873b87d"
      },
      "outputs": [],
      "source": [
        "# Transaction Encoding\n",
        "from mlxtend.preprocessing import TransactionEncoder\n",
        "te=TransactionEncoder()\n",
        "te_array=te.fit(transactions).transform(transactions)\n",
        "df=pd.DataFrame(te_array,columns=te.columns_)"
      ]
    },
    {
      "cell_type": "code",
      "execution_count": null,
      "id": "bd2c73ba-e1d7-4488-b446-3e38b5603398",
      "metadata": {
        "id": "bd2c73ba-e1d7-4488-b446-3e38b5603398"
      },
      "outputs": [],
      "source": [
        "# Apply apriori algo\n",
        "from mlxtend.frequent_patterns import apriori,association_rules\n",
        "freq_items=apriori(df,min_support=0.01,use_colnames=True)"
      ]
    },
    {
      "cell_type": "code",
      "execution_count": null,
      "id": "b33f13ff-9bd9-4f5f-abae-8a5605beb2cc",
      "metadata": {
        "id": "b33f13ff-9bd9-4f5f-abae-8a5605beb2cc"
      },
      "outputs": [],
      "source": [
        "freq_items.tail()"
      ]
    },
    {
      "cell_type": "code",
      "execution_count": null,
      "id": "11640281-b0a6-403d-a030-a95641c901d7",
      "metadata": {
        "id": "11640281-b0a6-403d-a030-a95641c901d7"
      },
      "outputs": [],
      "source": [
        "# Generate rules\n",
        "num_itemsets=len(freq_items)\n",
        "rules=association_rules(freq_items,num_itemsets=num_itemsets,metric='confidence',min_threshold=0.2)"
      ]
    },
    {
      "cell_type": "code",
      "execution_count": null,
      "id": "144d656a-61e5-44ca-808f-6b0425105d2c",
      "metadata": {
        "id": "144d656a-61e5-44ca-808f-6b0425105d2c"
      },
      "outputs": [],
      "source": [
        "rules"
      ]
    },
    {
      "cell_type": "code",
      "execution_count": null,
      "id": "d0f7b2e4-e6c7-47ab-bd0e-d6dbe3a6b72f",
      "metadata": {
        "id": "d0f7b2e4-e6c7-47ab-bd0e-d6dbe3a6b72f"
      },
      "outputs": [],
      "source": [
        "rules"
      ]
    },
    {
      "cell_type": "code",
      "execution_count": 2,
      "id": "dbd47b60-2db2-47f0-88cf-d85237fe03fc",
      "metadata": {
        "colab": {
          "base_uri": "https://localhost:8080/",
          "height": 158
        },
        "id": "dbd47b60-2db2-47f0-88cf-d85237fe03fc",
        "outputId": "cd70d920-5bf8-4844-8c9b-21d02fb950e9"
      },
      "outputs": [
        {
          "output_type": "error",
          "ename": "NameError",
          "evalue": "name 'rules' is not defined",
          "traceback": [
            "\u001b[0;31m---------------------------------------------------------------------------\u001b[0m",
            "\u001b[0;31mNameError\u001b[0m                                 Traceback (most recent call last)",
            "\u001b[0;32m<ipython-input-2-a4db28b0fd7c>\u001b[0m in \u001b[0;36m<cell line: 0>\u001b[0;34m()\u001b[0m\n\u001b[0;32m----> 1\u001b[0;31m \u001b[0mstrong_rules\u001b[0m\u001b[0;34m=\u001b[0m\u001b[0mrules\u001b[0m\u001b[0;34m[\u001b[0m\u001b[0;34m(\u001b[0m\u001b[0mrules\u001b[0m\u001b[0;34m[\u001b[0m\u001b[0;34m'confidence'\u001b[0m\u001b[0;34m]\u001b[0m\u001b[0;34m>\u001b[0m\u001b[0;36m0.4\u001b[0m\u001b[0;34m)\u001b[0m \u001b[0;34m|\u001b[0m \u001b[0;34m(\u001b[0m\u001b[0mrules\u001b[0m\u001b[0;34m[\u001b[0m\u001b[0;34m'lift'\u001b[0m\u001b[0;34m]\u001b[0m\u001b[0;34m>\u001b[0m\u001b[0;36m2.5\u001b[0m\u001b[0;34m)\u001b[0m\u001b[0;34m]\u001b[0m\u001b[0;34m\u001b[0m\u001b[0;34m\u001b[0m\u001b[0m\n\u001b[0m\u001b[1;32m      2\u001b[0m \u001b[0mstrong_rules\u001b[0m\u001b[0;34m\u001b[0m\u001b[0;34m\u001b[0m\u001b[0m\n",
            "\u001b[0;31mNameError\u001b[0m: name 'rules' is not defined"
          ]
        }
      ],
      "source": [
        "strong_rules=rules[(rules['confidence']>0.4) | (rules['lift']>2.5)]\n",
        "strong_rules"
      ]
    },
    {
      "cell_type": "code",
      "execution_count": null,
      "id": "6fbd7bbb-889a-4eb5-831b-35d714a8bbd4",
      "metadata": {
        "id": "6fbd7bbb-889a-4eb5-831b-35d714a8bbd4"
      },
      "outputs": [],
      "source": []
    },
    {
      "cell_type": "code",
      "execution_count": null,
      "id": "c2dbf911-7093-4844-ad51-4227a3d4d284",
      "metadata": {
        "id": "c2dbf911-7093-4844-ad51-4227a3d4d284"
      },
      "outputs": [],
      "source": []
    }
  ],
  "metadata": {
    "kernelspec": {
      "display_name": "Python 3 (ipykernel)",
      "language": "python",
      "name": "python3"
    },
    "language_info": {
      "codemirror_mode": {
        "name": "ipython",
        "version": 3
      },
      "file_extension": ".py",
      "mimetype": "text/x-python",
      "name": "python",
      "nbconvert_exporter": "python",
      "pygments_lexer": "ipython3",
      "version": "3.12.4"
    },
    "colab": {
      "provenance": [],
      "include_colab_link": true
    }
  },
  "nbformat": 4,
  "nbformat_minor": 5
}